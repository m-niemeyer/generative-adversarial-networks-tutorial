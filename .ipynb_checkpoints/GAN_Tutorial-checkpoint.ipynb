{
 "cells": [
  {
   "cell_type": "markdown",
   "metadata": {},
   "source": [
    "# Introduction to Generative Adversarial Networks\n",
    "***\n",
    "This is an introduction to Generative Adversarial Networks (GANs)."
   ]
  },
  {
   "cell_type": "code",
   "execution_count": 1,
   "metadata": {},
   "outputs": [],
   "source": [
    "import tensorflow as tf\n",
    "import numpy as np\n",
    "from numpy import genfromtxt\n",
    "from matplotlib import pyplot as plt\n",
    "import pickle"
   ]
  },
  {
   "cell_type": "markdown",
   "metadata": {},
   "source": [
    "## Generator Network\n",
    "***\n",
    "First, let's define the generator network."
   ]
  },
  {
   "cell_type": "code",
   "execution_count": 2,
   "metadata": {},
   "outputs": [],
   "source": [
    "def generator(z, z_dim=100, reuse=False):\n",
    "    with tf.variable_scope(\"generator\") as scope:\n",
    "        if reuse:\n",
    "            tf.get_variable_scope().reuse_variables()\n",
    "        \n",
    "        #Project and Reshape\n",
    "        batch_size = tf.shape(z)[0]\n",
    "        z_reshape = tf.reshape(z, shape=[-1, 2, 2, 25])\n",
    "        \n",
    "        # First Conv_transpose layer: From (2,2,25) to (4,4,64)\n",
    "        w_convt_1 = tf.get_variable('g_conv1', shape=[5, 5, 64, 25], initializer=tf.initializers.truncated_normal(stddev=0.2))\n",
    "        b_convt_1 = tf.get_variable('g_bconv1', shape=[64], initializer=tf.initializers.zeros)\n",
    "        convt_1 = tf.nn.conv2d_transpose(z_reshape, filter=w_convt_1, output_shape=[batch_size, 4, 4, 64], strides=[1,2,2,1], padding='SAME')\n",
    "        convt_1 = tf.nn.relu(convt_1 + b_convt_1)\n",
    "        # Second Conv_transpose layer: From (4,4,64) to (7,7,32)\n",
    "        w_convt_2 = tf.get_variable('g_conv2', shape=[3, 3, 32, 64], initializer=tf.initializers.truncated_normal(stddev=0.2))\n",
    "        b_convt_2 = tf.get_variable('g_bconv2', shape=[32], initializer=tf.initializers.zeros)\n",
    "        convt_2 = tf.nn.conv2d_transpose(convt_1, filter=w_convt_2, output_shape=[batch_size, 7, 7, 32], strides=[1,2,2,1], padding='SAME')\n",
    "        convt_2 = tf.nn.relu(convt_2 + b_convt_2)\n",
    "        # Third Conv_transpose layer From (7,7,32) to (14, 14, 16)\n",
    "        w_convt_3 = tf.get_variable('g_conv3', shape=[5, 5, 16, 32], initializer=tf.initializers.truncated_normal(stddev=0.2))\n",
    "        b_convt_3 = tf.get_variable('g_bconv3', shape=[16], initializer=tf.initializers.zeros)\n",
    "        convt_3 = tf.nn.conv2d_transpose(convt_2, filter=w_convt_3, output_shape=[batch_size, 14, 14, 16], strides=[1,2,2,1], padding='SAME')\n",
    "        convt_3 = tf.nn.relu(convt_3 + b_convt_3)\n",
    "        # Fourth Conv_transpose layer: From (14, 14, 16) to (28, 28, 1)\n",
    "        w_convt_4 = tf.get_variable('g_conv4', shape=[5, 5, 1, 16], initializer=tf.initializers.truncated_normal(stddev=0.2))\n",
    "        b_convt_4 = tf.get_variable('g_bconv4', shape=[1], initializer=tf.initializers.zeros)\n",
    "        convt_4 = tf.nn.conv2d_transpose(convt_3, filter=w_convt_4, output_shape=[batch_size, 28, 28, 1], strides=[1,2,2,1], padding='SAME')\n",
    "        convt_4 = tf.nn.tanh(convt_4 + b_convt_4)\n",
    "        return convt_4\n"
   ]
  },
  {
   "cell_type": "markdown",
   "metadata": {},
   "source": [
    "now we only have to define z as a placeholder and call the generator with it before starting a session."
   ]
  },
  {
   "cell_type": "code",
   "execution_count": 3,
   "metadata": {},
   "outputs": [],
   "source": [
    "z_dimension = 100\n",
    "z = tf.placeholder(dtype=tf.float32, shape=[None, z_dimension])\n",
    "generated_img = generator(z, z_dim=z_dimension)"
   ]
  },
  {
   "cell_type": "markdown",
   "metadata": {},
   "source": [
    "### Generator Network - Generating an example\n",
    "***\n",
    "We can now generate an example, however, it will just be random noise."
   ]
  },
  {
   "cell_type": "code",
   "execution_count": 4,
   "metadata": {},
   "outputs": [
    {
     "data": {
      "image/png": "[encoded data removed]",
      "text/plain": [
       "<Figure size 432x288 with 1 Axes>"
      ]
     },
     "metadata": {},
     "output_type": "display_data"
    }
   ],
   "source": [
    "with tf.Session() as session:\n",
    "    session.run(tf.global_variables_initializer())\n",
    "    z_batch = np.random.normal(-1, 1, [1, z_dimension]) # Only one example in our batch\n",
    "    feed_dict = {z: z_batch}\n",
    "    img = session.run([generated_img], feed_dict=feed_dict)\n",
    "    img = np.reshape(img, (28,28))\n",
    "    plt.imshow(img, cmap='gray')\n",
    "    plt.show()"
   ]
  },
  {
   "cell_type": "markdown",
   "metadata": {},
   "source": [
    "## Descriminator Network\n",
    "***\n",
    "Let's define the descriminator network."
   ]
  },
  {
   "cell_type": "code",
   "execution_count": 5,
   "metadata": {},
   "outputs": [],
   "source": [
    "def descriminator(x, reuse=False):\n",
    "    with tf.variable_scope(\"descriminator\") as scope:\n",
    "        if reuse:\n",
    "            tf.get_variable_scope().reuse_variables()\n",
    "        #2, 2, 25 to 4, 4, 64 to 7, 7, 32 to 14, 14, 16 to 28,28,1\n",
    "\n",
    "        # To 14,14\n",
    "        x_reshape = tf.reshape(x, shape=(-1, 28, 28, 1))\n",
    "        w_conv1 = tf.get_variable('d_w1', shape=[5, 5, 1, 16], initializer=tf.initializers.truncated_normal(stddev=0.2))\n",
    "        b_conv1 = tf.get_variable('d_b1', shape=[16], initializer=tf.initializers.zeros)\n",
    "        conv_1 = tf.nn.conv2d(x_reshape, filter=w_conv1, strides=[1,2,2,1], padding='SAME')\n",
    "        conv_1 = tf.nn.leaky_relu(conv_1 + b_conv1)\n",
    "\n",
    "        # To 7,7\n",
    "        w_conv2 = tf.get_variable('d_w2', shape=[5, 5, 16, 32], initializer=tf.initializers.truncated_normal(stddev=0.2))\n",
    "        b_conv2 = tf.get_variable('d_b2', shape=[32], initializer=tf.initializers.zeros)\n",
    "        conv_2 = tf.nn.conv2d(conv_1, filter=w_conv2, strides=[1,2,2,1], padding='SAME')\n",
    "        conv_2 = tf.nn.leaky_relu(conv_2 + b_conv2)\n",
    "\n",
    "        # To 4,4\n",
    "        w_conv3 = tf.get_variable('d_w3', shape=[5, 5, 32, 64], initializer=tf.initializers.truncated_normal(stddev=0.2))\n",
    "        b_conv3 = tf.get_variable('d_b3', shape=[64], initializer=tf.initializers.zeros)\n",
    "        conv_3 = tf.nn.conv2d(conv_2, filter=w_conv3, strides=[1,2,2,1], padding='SAME')\n",
    "        conv_3 = tf.nn.leaky_relu(conv_3 + b_conv3)\n",
    "\n",
    "        # To 1,1\n",
    "C        b_conv4 = tf.get_variable('d_b4', shape=[128], initializer=tf.initializers.zeros)\n",
    "        conv_4 = tf.nn.conv2d(conv_3, filter=w_conv4, strides=[1,2,2,1], padding='VALID')\n",
    "        conv_4 = tf.nn.leaky_relu(conv_4 + b_conv4)\n",
    "        conv_4 = tf.reshape(conv_4, shape=[128])\n",
    "        \n",
    "        #Dense layer 128 to 1\n",
    "        w_d = tf.get_variable\n",
    "\n",
    "        return conv_4"
   ]
  },
  {
   "cell_type": "markdown",
   "metadata": {},
   "source": [
    "## Loss Functions and Optimiser\n",
    "***\n",
    "Let's define the loss functions and optimiser algorithms."
   ]
  },
  {
   "cell_type": "code",
   "execution_count": 6,
   "metadata": {},
   "outputs": [
    {
     "name": "stdout",
     "output_type": "stream",
     "text": [
      "(?, 14, 14, 16)\n",
      "(?, 7, 7, 32)\n",
      "(?, 4, 4, 64)\n",
      "(?, 1, 1, 128)\n",
      "(?, 14, 14, 16)\n",
      "(?, 7, 7, 32)\n",
      "(?, 4, 4, 64)\n",
      "(?, 1, 1, 128)\n"
     ]
    }
   ],
   "source": [
    "tf.reset_default_graph() # To ensure that everything we did is deleted\n",
    "\n",
    "z = tf.placeholder(dtype=tf.float32, shape=[None, z_dimension])\n",
    "x = tf.placeholder(dtype=tf.float32, shape=[None, 784])\n",
    "Gen_z = generator(z, z_dim=z_dimension)\n",
    "Des_gz = descriminator(Gen_z)\n",
    "Des_x = descriminator(x, reuse=True)\n",
    "\n",
    "g_loss = tf.reduce_mean(tf.nn.sigmoid_cross_entropy_with_logits(labels=tf.ones_like(Des_gz), logits=Des_gz))\n",
    "d_loss1 = tf.reduce_mean(tf.nn.sigmoid_cross_entropy_with_logits(labels=tf.zeros_like(Des_gz), logits=Des_gz))\n",
    "d_loss2 = tf.reduce_mean(tf.nn.sigmoid_cross_entropy_with_logits(labels=tf.ones_like(Des_x), logits=Des_x))\n",
    "d_loss = d_loss1 + d_loss2\n",
    "\n",
    "train_var = tf.trainable_variables()\n",
    "g_var = [v for v in train_var if 'g_' in v.name]\n",
    "d_var = [v for v in train_var if 'd_' in v.name]\n",
    "adam = tf.train.AdamOptimizer()\n",
    "g_optimiser = adam.minimize(g_loss,var_list=g_var)\n",
    "d_optimiser = adam.minimize(d_loss, var_list=d_var)"
   ]
  },
  {
   "cell_type": "markdown",
   "metadata": {},
   "source": [
    "## Train the GAN Networks\n",
    "***"
   ]
  },
  {
   "cell_type": "markdown",
   "metadata": {},
   "source": [
    "### Import Data\n",
    "***\n",
    "Now we first import the real images."
   ]
  },
  {
   "cell_type": "code",
   "execution_count": 9,
   "metadata": {},
   "outputs": [
    {
     "name": "stdout",
     "output_type": "stream",
     "text": [
      "Training Data loaded and saved as pickle file.\n"
     ]
    }
   ],
   "source": [
    "try:\n",
    "    with open('train_data.p', 'rb') as f:\n",
    "        train_data = pickle.load(f)\n",
    "    print('Training data loaded from pickle file.')\n",
    "except:\n",
    "    train_d = genfromtxt('mnist_train.csv', delimiter=',')\n",
    "    train_data = train_d[:, 1:]\n",
    "    with open('train_data.p', 'wb') as f:\n",
    "        pickle.dump(train_data, f)\n",
    "    print('Training Data loaded and saved as pickle file.')\n"
   ]
  },
  {
   "cell_type": "code",
   "execution_count": 10,
   "metadata": {},
   "outputs": [
    {
     "data": {
      "image/png": "[encoded data removed]",
      "text/plain": [
       "<Figure size 432x288 with 1 Axes>"
      ]
     },
     "metadata": {},
     "output_type": "display_data"
    }
   ],
   "source": [
    "example_img = train_data[np.random.randint(0, len(train_data))].reshape((28,28))\n",
    "plt.imshow(example_img, cmap='gray')\n",
    "plt.show()"
   ]
  },
  {
   "cell_type": "code",
   "execution_count": 11,
   "metadata": {},
   "outputs": [
    {
     "name": "stdout",
     "output_type": "stream",
     "text": [
      "Generator loss ( 0 Epoch) : 0.96757007\n",
      "Descriminator loss ( 0 Epoch) : 1.4650307\n",
      "Generator loss ( 100 Epoch) : 4.7656264\n",
      "Descriminator loss ( 100 Epoch) : 0.028249511\n",
      "Generator loss ( 200 Epoch) : 5.726226\n",
      "Descriminator loss ( 200 Epoch) : 0.01115165\n",
      "Generator loss ( 300 Epoch) : 6.4093046\n",
      "Descriminator loss ( 300 Epoch) : 0.0059749773\n",
      "Generator loss ( 400 Epoch) : 6.8874493\n",
      "Descriminator loss ( 400 Epoch) : 0.0036149556\n",
      "Generator loss ( 500 Epoch) : 7.1008363\n",
      "Descriminator loss ( 500 Epoch) : 0.0026235287\n",
      "Generator loss ( 600 Epoch) : 7.3522167\n",
      "Descriminator loss ( 600 Epoch) : 0.0019334941\n",
      "Generator loss ( 700 Epoch) : 7.54392\n",
      "Descriminator loss ( 700 Epoch) : 0.0017213736\n",
      "Generator loss ( 800 Epoch) : 7.6588283\n",
      "Descriminator loss ( 800 Epoch) : 0.0015623434\n",
      "Generator loss ( 900 Epoch) : 7.916478\n",
      "Descriminator loss ( 900 Epoch) : 0.0010997679\n",
      "Generator loss ( 1000 Epoch) : 7.9516215\n",
      "Descriminator loss ( 1000 Epoch) : 0.0010162687\n",
      "Generator loss ( 1100 Epoch) : 8.206832\n",
      "Descriminator loss ( 1100 Epoch) : 0.00083321054\n",
      "Generator loss ( 1200 Epoch) : 8.223551\n",
      "Descriminator loss ( 1200 Epoch) : 0.0007934221\n",
      "Generator loss ( 1300 Epoch) : 8.516811\n",
      "Descriminator loss ( 1300 Epoch) : 0.00068976707\n",
      "Generator loss ( 1400 Epoch) : 8.720185\n",
      "Descriminator loss ( 1400 Epoch) : 0.0005390686\n",
      "Generator loss ( 1500 Epoch) : 8.7483015\n",
      "Descriminator loss ( 1500 Epoch) : 0.00050418504\n",
      "Generator loss ( 1600 Epoch) : 8.474781\n",
      "Descriminator loss ( 1600 Epoch) : 0.0006419326\n",
      "Generator loss ( 1700 Epoch) : 8.836699\n",
      "Descriminator loss ( 1700 Epoch) : 0.0004663707\n",
      "Generator loss ( 1800 Epoch) : 8.67228\n",
      "Descriminator loss ( 1800 Epoch) : 0.0004931001\n",
      "Generator loss ( 1900 Epoch) : 9.021158\n",
      "Descriminator loss ( 1900 Epoch) : 0.00042521302\n",
      "Generator loss ( 2000 Epoch) : 7.460496\n",
      "Descriminator loss ( 2000 Epoch) : 0.0029795775\n",
      "Generator loss ( 2100 Epoch) : 8.843958\n",
      "Descriminator loss ( 2100 Epoch) : 0.000573795\n",
      "Generator loss ( 2200 Epoch) : 7.3752685\n",
      "Descriminator loss ( 2200 Epoch) : 0.006471888\n",
      "Generator loss ( 2300 Epoch) : 9.662548\n",
      "Descriminator loss ( 2300 Epoch) : 0.0002429487\n",
      "Generator loss ( 2400 Epoch) : 9.315103\n",
      "Descriminator loss ( 2400 Epoch) : 0.00042667668\n",
      "Generator loss ( 2500 Epoch) : 9.69605\n",
      "Descriminator loss ( 2500 Epoch) : 0.0002631651\n",
      "Generator loss ( 2600 Epoch) : 9.832501\n",
      "Descriminator loss ( 2600 Epoch) : 0.00020728308\n",
      "Generator loss ( 2700 Epoch) : 9.842838\n",
      "Descriminator loss ( 2700 Epoch) : 0.00019410015\n",
      "Generator loss ( 2800 Epoch) : 10.620098\n",
      "Descriminator loss ( 2800 Epoch) : 0.00015411097\n",
      "Generator loss ( 2900 Epoch) : 10.6354885\n",
      "Descriminator loss ( 2900 Epoch) : 0.00013607265\n"
     ]
    }
   ],
   "source": [
    "session = tf.Session()\n",
    "batch_size = 60\n",
    "train_data_l = len(train_data)\n",
    "session.run(tf.global_variables_initializer())\n",
    "\n",
    "for i in range(3000):\n",
    "    batch_x = train_data[np.random.choice(train_data_l, size=batch_size, replace=False)]\n",
    "    batch_z = np.random.normal(size=(batch_size, z_dimension))\n",
    "    feed_dict = {x: batch_x, z: batch_z}\n",
    "    _, dl = session.run([d_optimiser, d_loss], feed_dict=feed_dict)\n",
    "    _, gl = session.run([g_optimiser, g_loss], feed_dict=feed_dict)\n",
    "    if i%100 == 0:\n",
    "        print('Generator loss (', i, 'Epoch) :', gl)\n",
    "        print('Descriminator loss (', i, 'Epoch) :', dl)\n",
    "    "
   ]
  },
  {
   "cell_type": "code",
   "execution_count": 12,
   "metadata": {},
   "outputs": [
    {
     "data": {
      "image/png": "[encoded data removed]",
      "text/plain": [
       "<Figure size 432x288 with 1 Axes>"
      ]
     },
     "metadata": {},
     "output_type": "display_data"
    }
   ],
   "source": [
    "sample_img = generator(z,z_dim=z_dimension, reuse=True)\n",
    "z_batch = np.random.normal(size=(1, z_dimension))\n",
    "img = session.run([sample_img], feed_dict={z: z_batch})\n",
    "img = np.reshape(img, (28,28))\n",
    "plt.imshow(img, cmap='gray')\n",
    "plt.show()"
   ]
  },
  {
   "cell_type": "code",
   "execution_count": null,
   "metadata": {},
   "outputs": [],
   "source": []
  }
 ],
 "metadata": {
  "kernelspec": {
   "display_name": "tensorflow",
   "language": "python",
   "name": "tensor-kernel"
  },
  "language_info": {
   "codemirror_mode": {
    "name": "ipython",
    "version": 3
   },
   "file_extension": ".py",
   "mimetype": "text/x-python",
   "name": "python",
   "nbconvert_exporter": "python",
   "pygments_lexer": "ipython3",
   "version": "3.5.2"
  }
 },
 "nbformat": 4,
 "nbformat_minor": 2
}
