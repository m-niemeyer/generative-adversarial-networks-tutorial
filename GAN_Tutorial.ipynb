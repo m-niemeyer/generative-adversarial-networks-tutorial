{
 "cells": [
  {
   "cell_type": "markdown",
   "metadata": {},
   "source": [
    "# Generative Adversarial Networks - A Tutorial\n",
    "***\n",
    "## 1. Introduction\n",
    "\n",
    "This is an introduction to [Generative Adversarial Networks (GANs)](https://arxiv.org/abs/1406.2661) and how they can be used to generate photos of handwritten digits. In particular, we will use a an architecture that is is similar to the [DCGAN](https://arxiv.org/abs/1511.06434) proposed by Radford et al.\n",
    "\n",
    "### 1.1 Core Idea\n",
    "***\n",
    "![Core Idea of GANS](imgs/GAN_Intro.jpeg)\n",
    "<sub>Image Source: https://deeplearning4j.org/generative-adversarial-network</sub>\n",
    "\n",
    "The core idea of GANs is to combine two neural networks with distinct tasks: a **generator** and a **descriminator**. The first tries to produce realistic images from random noise, while the latter tries to distinguish the generated images from the *real* images. The following analogy is taken from Goodfellow et al.'s [original paper on GANs](https://arxiv.org/abs/1406.2661):\n",
    "\n",
    "> The generative model can be thought of as analogous to a team of counterfeiters, trying to produce fake currency and use it without detection, while the discriminative model is analogous to the police, trying to detect the counterfeit currency. Competition in this game drives both teams to improve their methods until the counterfeits are indistiguishable from the genuine articles.\n",
    "\n",
    "### 1.2 Idea of this notebook\n",
    "***\n",
    "In this notebook, I just wanted to present a simple and straightforward implementation of GANs and how they can be used in practice. If you have any question, suggestions, etc., feel free to contact me!"
   ]
  },
  {
   "cell_type": "code",
   "execution_count": 1,
   "metadata": {},
   "outputs": [],
   "source": [
    "import tensorflow as tf\n",
    "import numpy as np\n",
    "from numpy import genfromtxt\n",
    "from matplotlib import pyplot as plt\n",
    "import pickle"
   ]
  },
  {
   "cell_type": "markdown",
   "metadata": {},
   "source": [
    "## 2. Generator Network\n",
    "***\n",
    "![DCGAN Architecture](imgs/DCGAN.jpeg)\n",
    "<sub>Image Source: Original DCGAN paper (https://arxiv.org/abs/1511.06434) </sub>\n",
    "\n",
    "The generator network takes random noise of a fixed dimension, e.g. 100, as input, and slowly scales this noise by transposed convolution layers from small but many *feature maps* to 3 (RGB) or 1 (Greyscale) large feature map which is the generated image. Usually, the noise vector z is drawn from a Gaussian with mean 0 and standard deviation of 1. The idea is that we assume that real images are also drawn from a distribution, and we want to get as close as possible to this distribution with our generator. (A standard way of measure the distance of two probability distributions is the [Kullback-Leibler divergence](https://en.wikipedia.org/wiki/Kullback%E2%80%93Leibler_divergence).)\n",
    "\n",
    "Now, let's define the generator network. We adopt the findings from Radford et al. which mainly consists of \n",
    "\n",
    "1. Use Batch Normalisation\n",
    "2. Use ReLU activation in the generator network, except for the last layer where one should use tanh\n",
    "3. Only use transposed convolution operations instead of dense layers.\n",
    "\n",
    "We go from a random noise vector of dimension 100 to 256 2x2 feature maps, and then slowly scale up to the final greyscale image of size (28,28). **Please note** that we do **not** use excactly the same dimensions of the figure above as we have to adjust it to a.) our computational power and b.) our final image size."
   ]
  },
  {
   "cell_type": "code",
   "execution_count": 2,
   "metadata": {},
   "outputs": [],
   "source": [
    "def generator(z, batch_size, z_dim=100, reuse=False):\n",
    "    with tf.variable_scope(\"generator\") as scope:\n",
    "        if reuse:\n",
    "            tf.get_variable_scope().reuse_variables()\n",
    "        \n",
    "        #Project and Reshape\n",
    "        w_d1 = tf.get_variable('g_dw1', shape=[z_dim, 4*256], initializer=tf.initializers.truncated_normal(stddev=0.2))\n",
    "        b_d1 = tf.get_variable('g_bw1', shape=[4*256], initializer=tf.initializers.zeros)\n",
    "        z_reshape = tf.matmul(z, w_d1) + b_d1\n",
    "        z_reshape = tf.nn.relu(z_reshape)\n",
    "        z_reshape = tf.reshape(z_reshape, shape=[-1, 2, 2, 256])       \n",
    "        # First Conv_transpose layer: From (2,2,265) to (4,4,64)\n",
    "        w_convt_1 = tf.get_variable('g_conv1', shape=[5, 5, 64, 256], initializer=tf.initializers.truncated_normal(stddev=0.2))\n",
    "        b_convt_1 = tf.get_variable('g_bconv1', shape=[64], initializer=tf.initializers.zeros)\n",
    "        convt_1 = tf.nn.conv2d_transpose(z_reshape, filter=w_convt_1, output_shape=[batch_size, 4, 4, 64], strides=[1,2,2,1], padding='SAME')\n",
    "        convt_1 = tf.contrib.layers.batch_norm(convt_1+b_convt_1, epsilon=1e-5, scope='bn1')\n",
    "        convt_1 = tf.nn.relu(convt_1)\n",
    "        # Second Conv_transpose layer: From (4,4,64) to (7,7,32)\n",
    "        w_convt_2 = tf.get_variable('g_conv2', shape=[3, 3, 32, 64], initializer=tf.initializers.truncated_normal(stddev=0.2))\n",
    "        b_convt_2 = tf.get_variable('g_bconv2', shape=[32], initializer=tf.initializers.zeros)\n",
    "        convt_2 = tf.nn.conv2d_transpose(convt_1, filter=w_convt_2, output_shape=[batch_size, 7, 7, 32], strides=[1,2,2,1], padding='SAME')\n",
    "        convt_2 = tf.contrib.layers.batch_norm(convt_2+b_convt_2, epsilon=1e-5, scope='bn2')\n",
    "        convt_2 = tf.nn.relu(convt_2)\n",
    "        # Third Conv_transpose layer From (7,7,32) to (14, 14, 16)\n",
    "        w_convt_3 = tf.get_variable('g_conv3', shape=[5, 5, 16, 32], initializer=tf.initializers.truncated_normal(stddev=0.2))\n",
    "        b_convt_3 = tf.get_variable('g_bconv3', shape=[16], initializer=tf.initializers.zeros)\n",
    "        convt_3 = tf.nn.conv2d_transpose(convt_2, filter=w_convt_3, output_shape=[batch_size, 14, 14, 16], strides=[1,2,2,1], padding='SAME')\n",
    "        convt_3 = tf.contrib.layers.batch_norm(convt_3+b_convt_3, epsilon=1e-5, scope='bn3')\n",
    "        convt_3 = tf.nn.relu(convt_3)\n",
    "        # Fourth Conv_transpose layer: From (14, 14, 16) to (28, 28, 1)\n",
    "        w_convt_4 = tf.get_variable('g_conv4', shape=[5, 5, 1, 16], initializer=tf.initializers.truncated_normal(stddev=0.2))\n",
    "        b_convt_4 = tf.get_variable('g_bconv4', shape=[1], initializer=tf.initializers.zeros)\n",
    "        convt_4 = tf.nn.conv2d_transpose(convt_3, filter=w_convt_4, output_shape=[batch_size, 28, 28, 1], strides=[1,2,2,1], padding='SAME')\n",
    "        convt_4 = tf.nn.tanh(convt_4)\n",
    "        return convt_4"
   ]
  },
  {
   "cell_type": "markdown",
   "metadata": {},
   "source": [
    "Let's define z as a placeholder and call the generator with it so that we can generate an example"
   ]
  },
  {
   "cell_type": "code",
   "execution_count": 3,
   "metadata": {},
   "outputs": [],
   "source": [
    "z_dimension = 100\n",
    "z = tf.placeholder(dtype=tf.float32, shape=[None, z_dimension])\n",
    "generated_img = generator(z, 1, z_dim=z_dimension)"
   ]
  },
  {
   "cell_type": "markdown",
   "metadata": {},
   "source": [
    "### 2.1 Generator Network - Generating an example\n",
    "***\n",
    "We can now generate an example, however, it will just be random noise."
   ]
  },
  {
   "cell_type": "code",
   "execution_count": 4,
   "metadata": {},
   "outputs": [
    {
     "data": {
      "image/png": "[encoded data removed]",
      "text/plain": [
       "<Figure size 432x288 with 1 Axes>"
      ]
     },
     "metadata": {},
     "output_type": "display_data"
    }
   ],
   "source": [
    "with tf.Session() as session:\n",
    "    session.run(tf.global_variables_initializer())\n",
    "    z_batch = np.random.normal(-1, 1, [1, z_dimension]) # Only one example in our batch\n",
    "    feed_dict = {z: z_batch}\n",
    "    img = session.run([generated_img], feed_dict=feed_dict)\n",
    "    img = np.reshape(img, (28,28))\n",
    "    plt.imshow(img, cmap='gray')\n",
    "    plt.show()"
   ]
  },
  {
   "cell_type": "markdown",
   "metadata": {},
   "source": [
    "## 3. Descriminator Network\n",
    "***\n",
    "![Discriminator](imgs/Discriminator.jpeg)\n",
    "<sub>Image Source: https://hackernoon.com/how-do-gans-intuitively-work-2dda07f247a1a</sub>\n",
    "\n",
    "Let's have a look at the descriminator network. It takes either the generated (fake) images or the real images as input and produces a probability how likely the input image is real. As a result, the output of this network is a single scalar between 0 and 1. We again adopt the findings of the Radford et al. so that we use \n",
    "\n",
    "1. batch normalisation\n",
    "2. leakly-ReLU with coefficient 0.2\n",
    "3. convolutional layers with strides to downsample (instead of dense layers).\n",
    "\n",
    "Again, we use different dimensions from the figure above to meet our requirements. We only use one dense layer to get our final predicted probability. "
   ]
  },
  {
   "cell_type": "code",
   "execution_count": 5,
   "metadata": {},
   "outputs": [],
   "source": [
    "def descriminator(x, reuse=False):\n",
    "    with tf.variable_scope(\"descriminator\") as scope:\n",
    "        if reuse:\n",
    "            tf.get_variable_scope().reuse_variables()\n",
    "        \n",
    "        x_reshape = tf.reshape(x, shape=(-1, 28, 28, 1))\n",
    "\n",
    "        # To 14,14\n",
    "        w_conv1 = tf.get_variable('d_w1', shape=[5, 5, 1, 16], initializer=tf.initializers.truncated_normal(stddev=0.2))\n",
    "        b_conv1 = tf.get_variable('d_b1', shape=[16], initializer=tf.initializers.zeros)\n",
    "        conv_1 = tf.nn.conv2d(x_reshape, filter=w_conv1, strides=[1,2,2,1], padding='SAME')\n",
    "        conv_1 = tf.contrib.layers.batch_norm(conv_1 + b_conv1, epsilon=1e-5, scope='dbn1')\n",
    "        conv_1 = tf.nn.leaky_relu(conv_1)\n",
    "\n",
    "        # To 7,7\n",
    "        w_conv2 = tf.get_variable('d_w2', shape=[5, 5, 16, 32], initializer=tf.initializers.truncated_normal(stddev=0.2))\n",
    "        b_conv2 = tf.get_variable('d_b2', shape=[32], initializer=tf.initializers.zeros)\n",
    "        conv_2 = tf.nn.conv2d(conv_1, filter=w_conv2, strides=[1,2,2,1], padding='SAME')\n",
    "        conv_2 = tf.contrib.layers.batch_norm(conv_2 + b_conv2, epsilon=1e-5, scope='dbn2')\n",
    "        conv_2 = tf.nn.leaky_relu(conv_2)\n",
    "\n",
    "        # To 4,4\n",
    "        w_conv3 = tf.get_variable('d_w3', shape=[5, 5, 32, 64], initializer=tf.initializers.truncated_normal(stddev=0.2))\n",
    "        b_conv3 = tf.get_variable('d_b3', shape=[64], initializer=tf.initializers.zeros)\n",
    "        conv_3 = tf.nn.conv2d(conv_2, filter=w_conv3, strides=[1,2,2,1], padding='SAME')\n",
    "        conv_3 = tf.contrib.layers.batch_norm(conv_3 + b_conv3, epsilon=1e-5, scope='dbn3')\n",
    "        conv_3 = tf.nn.leaky_relu(conv_3)\n",
    "\n",
    "        # To 1,1\n",
    "        w_conv4 = tf.get_variable('d_w4', shape=[3, 3, 64, 128], initializer=tf.initializers.truncated_normal(stddev=0.2))\n",
    "        b_conv4 = tf.get_variable('d_b4', shape=[128], initializer=tf.initializers.zeros)\n",
    "        conv_4 = tf.nn.conv2d(conv_3, filter=w_conv4, strides=[1,2,2,1], padding='VALID')\n",
    "        conv_4 = tf.contrib.layers.batch_norm(conv_4 + b_conv4, epsilon=1e-5, scope='dbn4')\n",
    "        conv_4 = tf.nn.leaky_relu(conv_4)\n",
    "        conv_4 = tf.reshape(conv_4, shape=[-1, 128])\n",
    "        \n",
    "        #Dense layer 128 to 1\n",
    "        w_d1 = tf.get_variable('d_wd1', shape=[128, 1], initializer=tf.initializers.truncated_normal(stddev=0.2))\n",
    "        b_d1 = tf.get_variable('d_db1', shape=[1], initializer=tf.initializers.zeros)\n",
    "        out_p = tf.matmul(conv_4, w_d1) + b_d1\n",
    "        return out_p"
   ]
  },
  {
   "cell_type": "markdown",
   "metadata": {},
   "source": [
    "## 4. Loss Functions and Optimiser\n",
    "***\n",
    "### 4.1 Generator Loss\n",
    "The aim of the generator network is to get a high probability value D(.) of the discriminator for its generated images G(z). Applying gradient descent, the generator descents according to the following minibatch gradient descent formula where m is the minibatch size:\n",
    "![Generator Loss](imgs/loss_g.jpeg)\n",
    "<sub>Image Source: [Original GAN Paper](https://arxiv.org/abs/1406.2661)</sub> \n",
    "\n",
    "### 4.2 Discriminator Loss\n",
    "The discriminator combines two different loss functions. First, the probability values should be maximised for the real images, D(x), and second, the probability values should be minimised for the fake images, D(G(z)), or the complimentary value, 1 - D(G(z)), should be maximised. In the gradient descent framework, this means that we ascent according to the minibatch gradient ascent formula:\n",
    "![Discriminator Loss](imgs/loss_d.jpeg)\n",
    "<sub>Image Source: [Original GAN Paper](https://arxiv.org/abs/1406.2661)</sub> \n",
    "\n",
    "In tensorflow, we can use the function sigmoid_cross_entropy_with logits for all three cases. The reason is that a.) the sigmoid assures an output value between 0 and 1, and b.) the cross entropy loss is reduced to either log(1 - D(G(z)) (generator case), log(D(G(z)) (first discriminator case), or log(1 - D(x)) (second discriminator case) as we set p = 1 (1. and 3. case) or p = 0 (2. case) in the cross entropy formula. If this was too complicated, you might get a better understanding of loss functions in GANs [here](https://danieltakeshi.github.io/2017/03/05/understanding-generative-adversarial-networks/).\n",
    "\n",
    "### 4.3 Optimiser\n",
    "I implemented the Adam optimiser with a learning rate of 0.0002, as suggested by Redford et al. in the DCGAN paper. An interesting detail is that we have to define the variables we would like to optimise over, as we update the discriminator and generator in turns. This is why we used variables names starting with 'g_' or 'd_', respectively. "
   ]
  },
  {
   "cell_type": "code",
   "execution_count": 6,
   "metadata": {},
   "outputs": [],
   "source": [
    "tf.reset_default_graph() # To ensure that everything we did is deleted\n",
    "\n",
    "batch_size = 128\n",
    "z = tf.placeholder(dtype=tf.float32, shape=[None, z_dimension])\n",
    "x = tf.placeholder(dtype=tf.float32, shape=[None, 784])\n",
    "Gen_z = generator(z, batch_size, z_dim=z_dimension)\n",
    "Des_gz = descriminator(Gen_z)\n",
    "Des_x = descriminator(x, reuse=True)\n",
    "\n",
    "g_loss = tf.reduce_mean(tf.nn.sigmoid_cross_entropy_with_logits(labels=tf.ones_like(Des_gz), logits=Des_gz))\n",
    "d_loss1 = tf.reduce_mean(tf.nn.sigmoid_cross_entropy_with_logits(labels=tf.ones_like(Des_gz), logits=Des_gz))\n",
    "d_loss2 = tf.reduce_mean(tf.nn.sigmoid_cross_entropy_with_logits(labels=tf.zeros_like(Des_x), logits=Des_x))\n",
    "d_loss = d_loss1 + d_loss2\n",
    "\n",
    "train_var = tf.trainable_variables()\n",
    "g_var = [v for v in train_var if 'g_' in v.name]\n",
    "d_var = [v for v in train_var if 'd_' in v.name]\n",
    "g_optimiser = tf.train.AdamOptimizer(0.0002).minimize(g_loss, var_list=g_var)\n",
    "d_optimiser = tf.train.AdamOptimizer(0.0002).minimize(-1*d_loss, var_list=d_var) # minimizing -1*d_loss is the same as maximizing d_loss"
   ]
  },
  {
   "cell_type": "markdown",
   "metadata": {},
   "source": [
    "## 5. Train the GANs\n",
    "***\n",
    "Finally, we can train the GANs! The only thing we have to keep in mind is that we train the two networks in turns, and that we optimise over the approriate discriminator / generator weights only!"
   ]
  },
  {
   "cell_type": "markdown",
   "metadata": {},
   "source": [
    "### 5.1 Import Data\n",
    "First, we import the real images. I use the CSV file of the training images, however, you could also use the standard images. You can access the CSV version [here](https://pjreddie.com/projects/mnist-in-csv/), or the ordinary version [here](http://yann.lecun.com/exdb/mnist/). I save the array as a pickle file to ensure faster use later. **Its is important to note** that we need to rescale the data to the tanh range (last Generator activation function) which is -1 to 1. "
   ]
  },
  {
   "cell_type": "code",
   "execution_count": 7,
   "metadata": {},
   "outputs": [
    {
     "name": "stdout",
     "output_type": "stream",
     "text": [
      "Training data loaded from pickle file.\n"
     ]
    }
   ],
   "source": [
    "try:\n",
    "    with open('train_data.p', 'rb') as f:\n",
    "        train_data = pickle.load(f)\n",
    "    print('Training data loaded from pickle file.')\n",
    "except:\n",
    "    train_d = genfromtxt('mnist_train.csv', delimiter=',')\n",
    "    train_data = train_d[:, 1:]\n",
    "    with open('train_data.p', 'wb') as f:\n",
    "        pickle.dump(train_data, f)\n",
    "    print('Training Data loaded and saved as pickle file.')\n"
   ]
  },
  {
   "cell_type": "code",
   "execution_count": 8,
   "metadata": {},
   "outputs": [
    {
     "data": {
      "image/png": "[encoded data removed]",
      "text/plain": [
       "<Figure size 432x288 with 1 Axes>"
      ]
     },
     "metadata": {},
     "output_type": "display_data"
    }
   ],
   "source": [
    "train_data = (train_data-128)/128 # Scale the data appropriately to -1-1\n",
    "example_img = train_data[np.random.randint(0, len(train_data))].reshape((28,28))\n",
    "plt.imshow(example_img, cmap='gray')\n",
    "plt.show()"
   ]
  },
  {
   "cell_type": "markdown",
   "metadata": {},
   "source": [
    "### 5.2 Training Loop\n",
    "The training loop is very simple - we perform minibatch gradient descent with a batch size of 128 and 5000 iterations. We call the optimiser in every iteration, and log the losses in every 200th iteration."
   ]
  },
  {
   "cell_type": "code",
   "execution_count": null,
   "metadata": {},
   "outputs": [
    {
     "name": "stdout",
     "output_type": "stream",
     "text": [
      "Generator loss ( 0 Epoch) : 0.7891028\n",
      "Descriminator loss ( 0 Epoch) : 1.7098527\n",
      "Generator loss ( 200 Epoch) : 2.4038632\n",
      "Descriminator loss ( 200 Epoch) : 8.266841\n",
      "Generator loss ( 400 Epoch) : 6.0672216\n",
      "Descriminator loss ( 400 Epoch) : 13.951612\n",
      "Generator loss ( 600 Epoch) : 8.075574\n",
      "Descriminator loss ( 600 Epoch) : 18.288834\n",
      "Generator loss ( 800 Epoch) : 10.121113\n",
      "Descriminator loss ( 800 Epoch) : 22.132442\n",
      "Generator loss ( 1000 Epoch) : 11.1042595\n",
      "Descriminator loss ( 1000 Epoch) : 23.923069\n",
      "Generator loss ( 1200 Epoch) : 12.250232\n",
      "Descriminator loss ( 1200 Epoch) : 27.644455\n",
      "Generator loss ( 1400 Epoch) : 14.345179\n",
      "Descriminator loss ( 1400 Epoch) : 30.837286\n",
      "Generator loss ( 1600 Epoch) : 15.048914\n",
      "Descriminator loss ( 1600 Epoch) : 33.41051\n",
      "Generator loss ( 1800 Epoch) : 15.73361\n",
      "Descriminator loss ( 1800 Epoch) : 35.286335\n"
     ]
    }
   ],
   "source": [
    "session = tf.Session()\n",
    "train_data_l = len(train_data)\n",
    "session.run(tf.global_variables_initializer())\n",
    "\n",
    "for i in range(5000):\n",
    "    batch_x = train_data[np.random.choice(train_data_l, size=batch_size, replace=False)]\n",
    "    batch_z = np.random.normal(size=(batch_size, z_dimension))\n",
    "    feed_dict = {x: batch_x, z: batch_z}\n",
    "    _, dl = session.run([d_optimiser, d_loss], feed_dict=feed_dict)\n",
    "    _, gl = session.run([g_optimiser, g_loss], feed_dict=feed_dict)\n",
    "    if i%200 == 0:\n",
    "        print('Generator loss (', i, 'Epoch) :', gl)\n",
    "        print('Descriminator loss (', i, 'Epoch) :', dl)\n",
    "    "
   ]
  },
  {
   "cell_type": "markdown",
   "metadata": {},
   "source": [
    "## 6. Results\n",
    "Let's have a look at a random result!"
   ]
  },
  {
   "cell_type": "code",
   "execution_count": null,
   "metadata": {},
   "outputs": [],
   "source": [
    "sample_img = generator(z,1,z_dim=z_dimension, reuse=True)\n",
    "z_batch = np.random.normal(size=(1, z_dimension))\n",
    "img = session.run([sample_img], feed_dict={z: z_batch})\n",
    "img = np.reshape(img, (28,28))\n",
    "plt.imshow(img, cmap='gray')\n",
    "plt.show()"
   ]
  },
  {
   "cell_type": "markdown",
   "metadata": {},
   "source": [
    "We can generate a 20x20 image of 20x20=400 example digits to get a better overview over the quality of our generated images!"
   ]
  },
  {
   "cell_type": "code",
   "execution_count": null,
   "metadata": {},
   "outputs": [],
   "source": [
    "final_img = np.zeros((560,560), dtype=np.uint8)\n",
    "for i in range(20):\n",
    "    for j in range(20):\n",
    "        sample_img = generator(z,1,z_dim=z_dimension, reuse=True)\n",
    "        z_batch = np.random.normal(size=(1, z_dimension))\n",
    "        img = session.run([sample_img], feed_dict={z: z_batch})\n",
    "        img = np.reshape(img, (28,28))\n",
    "        img = (img*128+128).round().astype(np.uint8)\n",
    "        final_img[i*28:(i+1)*28, j*28:(j+1)*28] = img"
   ]
  },
  {
   "cell_type": "code",
   "execution_count": null,
   "metadata": {},
   "outputs": [],
   "source": [
    "plt.figure(figsize=(10,10))\n",
    "plt.imshow(final_img, cmap=\"gray\")\n",
    "plt.show()"
   ]
  },
  {
   "cell_type": "markdown",
   "metadata": {},
   "source": [
    "## 7. Final Thoughts\n",
    "I hope you enjoyed the quick introduction to GANs! Generative models are becoming more important and have great potential in many regards, and GANs are one of the most popular architectures right now.\n",
    "\n",
    "If you have any suggestions/comments/questions, feel free to contact me!"
   ]
  }
 ],
 "metadata": {
  "kernelspec": {
   "display_name": "tensorflow",
   "language": "python",
   "name": "tensor-kernel"
  },
  "language_info": {
   "codemirror_mode": {
    "name": "ipython",
    "version": 3
   },
   "file_extension": ".py",
   "mimetype": "text/x-python",
   "name": "python",
   "nbconvert_exporter": "python",
   "pygments_lexer": "ipython3",
   "version": "3.5.2"
  }
 },
 "nbformat": 4,
 "nbformat_minor": 2
}
